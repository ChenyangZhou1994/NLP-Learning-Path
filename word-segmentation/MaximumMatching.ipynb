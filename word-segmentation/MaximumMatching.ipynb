{
 "cells": [
  {
   "cell_type": "markdown",
   "metadata": {
    "collapsed": true,
    "pycharm": {
     "name": "#%% md\n"
    }
   },
   "source": [
    "# 最大匹配算法 (Maximum Matching)"
   ]
  },
  {
   "cell_type": "markdown",
   "source": [
    "## 1.正向最大匹配算法 (FMM, Forward Maximum Matching)\n",
    "\n",
    "### 1.1.算法参数\n",
    "\n",
    "策略：\n",
    "   - 1）方向**从左往右**取词\n",
    "   - 2）取词最大长度为词典中长词的长度\n",
    "   - 3）每次右边减一个单字符\n",
    "   - 4）直到**词典中存在**或**剩下1个单字符**\n",
    "\n",
    "需要 sentence - 句子  user_dict = 词典 max_len = 词典中词的最大长度\n",
    "\n",
    "- sentence = '我们在野生动物园玩'\n",
    "- user_dict = ['我们', '在', '在野', '生动', '野生', '动物园', '野生动物园', '物','玩']\n",
    "- max_len = max([len(item) for item in user_dict]\n",
    "\n",
    "### 1.2.代码实现"
   ],
   "metadata": {
    "collapsed": false
   }
  },
  {
   "cell_type": "code",
   "execution_count": 1,
   "outputs": [],
   "source": [
    "def FMM_func(user_dict, sentence):\n",
    "    '''\n",
    "    FMM, Forward Maximum Matching, 正向最大匹配法\n",
    "    :param user_dict: 词典\n",
    "    :param sentence: 句子\n",
    "    :return: result:句子分词结果, word_count:总分词数, char_count:总单字符数\n",
    "    '''\n",
    "    result = []\n",
    "    max_len = max(len(item) for item in user_dict)\n",
    "    start = 0\n",
    "    while start != len(sentence):\n",
    "        index = start + max_len\n",
    "        if index > len(sentence):\n",
    "            index = len(sentence)\n",
    "        for i in range(max_len):\n",
    "            if (sentence[start:index] in user_dict) or (len(sentence[start:index]) == 1):\n",
    "                result.append(sentence[start:index])\n",
    "                start = index\n",
    "                break\n",
    "            index += -1\n",
    "    char_counts = 0\n",
    "    for i in result:\n",
    "        if len(i) == 1:\n",
    "            char_counts += 1\n",
    "    word_counts = len(result)\n",
    "    return [result, word_counts, char_counts]"
   ],
   "metadata": {
    "collapsed": false,
    "pycharm": {
     "name": "#%%\n"
    }
   }
  },
  {
   "cell_type": "code",
   "execution_count": 2,
   "outputs": [
    {
     "name": "stdout",
     "output_type": "stream",
     "text": [
      "Forward Maximum Matching:\n",
      "分词数:6个\n",
      "单字符数:3个\n",
      "分词结果如下:\n",
      "我们/在野/生动/物/园/玩/"
     ]
    }
   ],
   "source": [
    "user_dict = ['我们', '在', '在野', '生动', '野生', '动物园', '野生动物园', '物', '玩']\n",
    "sentence = '我们在野生动物园玩'\n",
    "result = FMM_func(user_dict, sentence)\n",
    "sentences = result[0]\n",
    "word_count = result[1]\n",
    "char_count = result[2]\n",
    "print(\"Forward Maximum Matching:\")\n",
    "print(\"分词数:%d个\" % word_count)\n",
    "print(\"单字符数:%d个\" % char_count)\n",
    "print(\"分词结果如下:\")\n",
    "for i in sentences:\n",
    "    print(i, end='/')"
   ],
   "metadata": {
    "collapsed": false,
    "pycharm": {
     "name": "#%%\n"
    }
   }
  },
  {
   "cell_type": "markdown",
   "source": [
    "## 2.反向最大匹配算法 (FMM, Forward Maximum Matching)\n",
    "\n",
    "### 2.1.算法参数\n",
    "\n",
    "策略：\n",
    "   - 1）方向**从右往左**取词\n",
    "   - 2）取词最大长度为词典中长词的长度\n",
    "   - 3）每次右边减一个字\n",
    "   - 4）直到**词典中存在**或**剩下1个单字**\n",
    "\n",
    "需要 sentence - 句子  user_dict = 词典 max_len = 词典中词的最大长度\n",
    "\n",
    "- sentence = '我们在野生动物园玩'\n",
    "- user_dict = ['我们', '在', '在野', '生动', '野生', '动物园', '野生动物园', '物','玩']\n",
    "- max_len = max([len(item) for item in user_dict]\n",
    "\n",
    "### 2.2.代码实现"
   ],
   "metadata": {
    "collapsed": false
   }
  },
  {
   "cell_type": "code",
   "execution_count": 3,
   "outputs": [],
   "source": [
    "def BMM_func(user_dict, sentence):\n",
    "    '''\n",
    "    BMM, Backward Maximum Matching, 反向最大匹配算法\n",
    "    :param user_dict: 词典\n",
    "    :param sentence: 句子\n",
    "    :return: None\n",
    "    '''\n",
    "    result = []\n",
    "    max_len = max([len(item) for item in user_dict])\n",
    "    start = len(sentence)\n",
    "    while start != 0:\n",
    "        index = start - max_len\n",
    "        if index < 0:\n",
    "            index = 0\n",
    "        for i in range(max_len):\n",
    "            if (sentence[index:start] in user_dict) or (len(sentence[index:start]) == 1):\n",
    "                result.append(sentence[index:start])\n",
    "                start = index\n",
    "                break\n",
    "            index += 1\n",
    "    char_counts = 0\n",
    "    for i in result:\n",
    "        if len(i) == 1:\n",
    "            char_counts += 1\n",
    "    word_counts = len(result)\n",
    "    return [result, word_counts, char_counts]"
   ],
   "metadata": {
    "collapsed": false,
    "pycharm": {
     "name": "#%%\n"
    }
   }
  },
  {
   "cell_type": "code",
   "execution_count": 4,
   "outputs": [
    {
     "name": "stdout",
     "output_type": "stream",
     "text": [
      "Backward Maximum Matching:\n",
      "分词数:4个\n",
      "单字符数:2个\n",
      "分词结果如下:\n",
      "我们/在/野生动物园/玩/"
     ]
    }
   ],
   "source": [
    "user_dict = ['我们', '在', '在野', '生动', '野生', '动物园', '野生动物园', '物', '玩']\n",
    "sentence = '我们在野生动物园玩'\n",
    "result = BMM_func(user_dict, sentence)\n",
    "sentences = result[0]\n",
    "word_count = result[1]\n",
    "char_count = result[2]\n",
    "print(\"Backward Maximum Matching:\")\n",
    "print(\"分词数:%d个\" % word_count)\n",
    "print(\"单字符数:%d个\" % char_count)\n",
    "print(\"分词结果如下:\")\n",
    "for i in sentences[::-1]:\n",
    "    print(i, end='/')"
   ],
   "metadata": {
    "collapsed": false,
    "pycharm": {
     "name": "#%%\n"
    }
   }
  },
  {
   "cell_type": "markdown",
   "source": [
    "## 3.双向最大匹配算法 (Bi-directional Maximum Matching)\n",
    "\n",
    "### 3.1算法参数\n",
    "\n",
    "策略：\n",
    "   - 1）分别执行FMM和BMM\n",
    "   - 2）选取标准：\n",
    "    - 2.1 比较分词数，选取较少的。\n",
    "    - 2.2 分词数相同时，选取单个字数量较少的。"
   ],
   "metadata": {
    "collapsed": false
   }
  },
  {
   "cell_type": "code",
   "execution_count": 5,
   "outputs": [],
   "source": [
    "def Bi_MM_func(user_dict, sentence):\n",
    "    FMM_result = FMM_func(user_dict=user_dict, sentence=sentence)\n",
    "    BMM_result = BMM_func(user_dict=user_dict, sentence=sentence)\n",
    "    if FMM_result[1] < BMM_result[1]:\n",
    "        result = FMM_result[0]\n",
    "    elif FMM_result[1] == BMM_result[1]:\n",
    "        if FMM_result[2] < BMM_result[2]:\n",
    "            result = FMM_result[0]\n",
    "        else:\n",
    "            result = BMM_result[0]\n",
    "    else:\n",
    "        result = BMM_result[0]\n",
    "    char_counts = 0\n",
    "    for i in result:\n",
    "        if len(i) == 1:\n",
    "            char_counts += 1\n",
    "    word_counts = len(result)\n",
    "    return [result, word_counts, char_counts]"
   ],
   "metadata": {
    "collapsed": false,
    "pycharm": {
     "name": "#%%\n"
    }
   }
  },
  {
   "cell_type": "code",
   "execution_count": 6,
   "outputs": [
    {
     "name": "stdout",
     "output_type": "stream",
     "text": [
      "Bi-directional Maximum Matching:\n",
      "分词数:4个\n",
      "单字符数:2个\n",
      "分词结果如下:\n",
      "我们/在/野生动物园/玩/"
     ]
    }
   ],
   "source": [
    "user_dict = ['我们', '在', '在野', '生动', '野生', '动物园', '野生动物园', '物', '玩']\n",
    "sentence = '我们在野生动物园玩'\n",
    "result = Bi_MM_func(user_dict, sentence)\n",
    "sentences = result[0]\n",
    "word_count = result[1]\n",
    "char_count = result[2]\n",
    "print(\"Bi-directional Maximum Matching:\")\n",
    "print(\"分词数:%d个\" % word_count)\n",
    "print(\"单字符数:%d个\" % char_count)\n",
    "print(\"分词结果如下:\")\n",
    "for i in sentences[::-1]:\n",
    "    print(i, end='/')"
   ],
   "metadata": {
    "collapsed": false,
    "pycharm": {
     "name": "#%%\n"
    }
   }
  }
 ],
 "metadata": {
  "kernelspec": {
   "display_name": "Python 3",
   "language": "python",
   "name": "python3"
  },
  "language_info": {
   "codemirror_mode": {
    "name": "ipython",
    "version": 2
   },
   "file_extension": ".py",
   "mimetype": "text/x-python",
   "name": "python",
   "nbconvert_exporter": "python",
   "pygments_lexer": "ipython2",
   "version": "2.7.6"
  }
 },
 "nbformat": 4,
 "nbformat_minor": 0
}